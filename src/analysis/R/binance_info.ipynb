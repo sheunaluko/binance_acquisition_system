{
 "cells": [
  {
   "cell_type": "markdown",
   "metadata": {},
   "source": [
    "## Binance Info "
   ]
  },
  {
   "cell_type": "markdown",
   "metadata": {},
   "source": [
    "### Binance Futures Return Value \n",
    "{<br>\n",
    "  \"e\": \"aggTrade\",  // Event type<br>\n",
    "  \"E\": 123456789,   // Event time<br>\n",
    "  \"s\": \"BTCUSDT\",    // Symbol<br>\n",
    "  \"a\": 5933014,     // Aggregate trade ID<br>\n",
    "  \"p\": \"0.001\",     // Price<br>\n",
    "  \"q\": \"100\",       // Quantity<br>\n",
    "  \"f\": 100,         // First trade ID<br>\n",
    "  \"l\": 105,         // Last trade ID<br>\n",
    "  \"T\": 123456785,   // Trade time<br>\n",
    "  \"m\": true,        // Is the buyer the market maker?<br>\n",
    "}<br>\n",
    "\n",
    "### Binance Spot Return Value \n",
    "{<br>\n",
    "  \"e\": \"aggTrade\",  // Event type<br>\n",
    "  \"E\": 123456789,   // Event time<br>\n",
    "  \"s\": \"BNBBTC\",    // Symbol<br>\n",
    "  \"a\": 12345,       // Aggregate trade ID<br>\n",
    "  \"p\": \"0.001\",     // Price<br>\n",
    "  \"q\": \"100\",       // Quantity<br>\n",
    "  \"f\": 100,         // First trade ID<br>\n",
    "  \"l\": 105,         // Last trade ID<br>\n",
    "  \"T\": 123456785,   // Trade time<br>\n",
    "  \"m\": true,        // Is the buyer the market maker?<br>\n",
    "  \"M\": true         // Ignore<br>\n",
    "}<br>\n",
    "\n",
    "### TLDR:  \n",
    "As you can see, the field 'm' reflects if the buyer was the marker maker. I.e reflects if the trade was a market SELL  "
   ]
  },
  {
   "cell_type": "markdown",
   "metadata": {},
   "source": [
    "### Also from binance (spot) \n",
    "\n",
    "Terminology\n",
    "These terms will be used throughout the documentation, so it is recommended especially for new users to read to help their understanding of the API.\n",
    "\n",
    "<b>base asset refers to the asset that is the quantity of a symbol. For the symbol BTCUSDT, BTC would be the base asset.\n",
    "quote asset refers to the asset that is the price of a symbol. For the symbol BTCUSDT, USDT would be the quote asset.</b>"
   ]
  },
  {
   "cell_type": "code",
   "execution_count": null,
   "metadata": {},
   "outputs": [],
   "source": []
  }
 ],
 "metadata": {
  "kernelspec": {
   "display_name": "Python 3",
   "language": "python",
   "name": "python3"
  },
  "language_info": {
   "codemirror_mode": {
    "name": "ipython",
    "version": 3
   },
   "file_extension": ".py",
   "mimetype": "text/x-python",
   "name": "python",
   "nbconvert_exporter": "python",
   "pygments_lexer": "ipython3",
   "version": "3.7.3"
  }
 },
 "nbformat": 4,
 "nbformat_minor": 4
}
